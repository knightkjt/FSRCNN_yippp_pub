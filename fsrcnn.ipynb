{
  "nbformat": 4,
  "nbformat_minor": 0,
  "metadata": {
    "colab": {
      "name": "fsrcnn.ipynb",
      "version": "0.3.2",
      "provenance": [],
      "collapsed_sections": [],
      "include_colab_link": true
    },
    "kernelspec": {
      "name": "python3",
      "display_name": "Python 3"
    },
    "accelerator": "GPU"
  },
  "cells": [
    {
      "cell_type": "markdown",
      "metadata": {
        "id": "view-in-github",
        "colab_type": "text"
      },
      "source": [
        "<a href=\"https://colab.research.google.com/github/knightkjt/FSRCNN_yippp_pub/blob/master/fsrcnn.ipynb\" target=\"_parent\"><img src=\"https://colab.research.google.com/assets/colab-badge.svg\" alt=\"Open In Colab\"/></a>"
      ]
    },
    {
      "cell_type": "code",
      "metadata": {
        "id": "8I30YegE02jB",
        "colab_type": "code",
        "colab": {
          "base_uri": "https://localhost:8080/",
          "height": 53
        },
        "outputId": "936b8140-3f21-43b3-fec9-ab59685d7352"
      },
      "source": [
        "!pip install -U -q PyDrive\n",
        "\n",
        "from pydrive.auth import GoogleAuth\n",
        "from pydrive.drive import GoogleDrive\n",
        "from google.colab import auth\n",
        "from oauth2client.client import GoogleCredentials\n",
        "\n",
        "# 1. Authenticate and create the PyDrive client.\n",
        "auth.authenticate_user()\n",
        "gauth = GoogleAuth()\n",
        "gauth.credentials = GoogleCredentials.get_application_default()\n",
        "drive = GoogleDrive(gauth)\n",
        "\n",
        "import os\n",
        "import sys\n"
      ],
      "execution_count": 1,
      "outputs": [
        {
          "output_type": "stream",
          "text": [
            "\u001b[?25l\r\u001b[K     |▎                               | 10kB 17.3MB/s eta 0:00:01\r\u001b[K     |▋                               | 20kB 3.6MB/s eta 0:00:01\r\u001b[K     |█                               | 30kB 5.1MB/s eta 0:00:01\r\u001b[K     |█▎                              | 40kB 3.2MB/s eta 0:00:01\r\u001b[K     |█▋                              | 51kB 3.9MB/s eta 0:00:01\r\u001b[K     |██                              | 61kB 4.7MB/s eta 0:00:01\r\u001b[K     |██▎                             | 71kB 5.4MB/s eta 0:00:01\r\u001b[K     |██▋                             | 81kB 6.0MB/s eta 0:00:01\r\u001b[K     |███                             | 92kB 6.7MB/s eta 0:00:01\r\u001b[K     |███▎                            | 102kB 5.2MB/s eta 0:00:01\r\u001b[K     |███▋                            | 112kB 5.2MB/s eta 0:00:01\r\u001b[K     |████                            | 122kB 5.2MB/s eta 0:00:01\r\u001b[K     |████▎                           | 133kB 5.2MB/s eta 0:00:01\r\u001b[K     |████▋                           | 143kB 5.2MB/s eta 0:00:01\r\u001b[K     |█████                           | 153kB 5.2MB/s eta 0:00:01\r\u001b[K     |█████▎                          | 163kB 5.2MB/s eta 0:00:01\r\u001b[K     |█████▋                          | 174kB 5.2MB/s eta 0:00:01\r\u001b[K     |██████                          | 184kB 5.2MB/s eta 0:00:01\r\u001b[K     |██████▎                         | 194kB 5.2MB/s eta 0:00:01\r\u001b[K     |██████▋                         | 204kB 5.2MB/s eta 0:00:01\r\u001b[K     |███████                         | 215kB 5.2MB/s eta 0:00:01\r\u001b[K     |███████▎                        | 225kB 5.2MB/s eta 0:00:01\r\u001b[K     |███████▋                        | 235kB 5.2MB/s eta 0:00:01\r\u001b[K     |████████                        | 245kB 5.2MB/s eta 0:00:01\r\u001b[K     |████████▎                       | 256kB 5.2MB/s eta 0:00:01\r\u001b[K     |████████▋                       | 266kB 5.2MB/s eta 0:00:01\r\u001b[K     |█████████                       | 276kB 5.2MB/s eta 0:00:01\r\u001b[K     |█████████▎                      | 286kB 5.2MB/s eta 0:00:01\r\u001b[K     |█████████▋                      | 296kB 5.2MB/s eta 0:00:01\r\u001b[K     |██████████                      | 307kB 5.2MB/s eta 0:00:01\r\u001b[K     |██████████▎                     | 317kB 5.2MB/s eta 0:00:01\r\u001b[K     |██████████▋                     | 327kB 5.2MB/s eta 0:00:01\r\u001b[K     |███████████                     | 337kB 5.2MB/s eta 0:00:01\r\u001b[K     |███████████▎                    | 348kB 5.2MB/s eta 0:00:01\r\u001b[K     |███████████▋                    | 358kB 5.2MB/s eta 0:00:01\r\u001b[K     |████████████                    | 368kB 5.2MB/s eta 0:00:01\r\u001b[K     |████████████▎                   | 378kB 5.2MB/s eta 0:00:01\r\u001b[K     |████████████▋                   | 389kB 5.2MB/s eta 0:00:01\r\u001b[K     |█████████████                   | 399kB 5.2MB/s eta 0:00:01\r\u001b[K     |█████████████▎                  | 409kB 5.2MB/s eta 0:00:01\r\u001b[K     |█████████████▋                  | 419kB 5.2MB/s eta 0:00:01\r\u001b[K     |██████████████                  | 430kB 5.2MB/s eta 0:00:01\r\u001b[K     |██████████████▎                 | 440kB 5.2MB/s eta 0:00:01\r\u001b[K     |██████████████▋                 | 450kB 5.2MB/s eta 0:00:01\r\u001b[K     |███████████████                 | 460kB 5.2MB/s eta 0:00:01\r\u001b[K     |███████████████▎                | 471kB 5.2MB/s eta 0:00:01\r\u001b[K     |███████████████▋                | 481kB 5.2MB/s eta 0:00:01\r\u001b[K     |████████████████                | 491kB 5.2MB/s eta 0:00:01\r\u001b[K     |████████████████▎               | 501kB 5.2MB/s eta 0:00:01\r\u001b[K     |████████████████▋               | 512kB 5.2MB/s eta 0:00:01\r\u001b[K     |█████████████████               | 522kB 5.2MB/s eta 0:00:01\r\u001b[K     |█████████████████▎              | 532kB 5.2MB/s eta 0:00:01\r\u001b[K     |█████████████████▋              | 542kB 5.2MB/s eta 0:00:01\r\u001b[K     |██████████████████              | 552kB 5.2MB/s eta 0:00:01\r\u001b[K     |██████████████████▎             | 563kB 5.2MB/s eta 0:00:01\r\u001b[K     |██████████████████▋             | 573kB 5.2MB/s eta 0:00:01\r\u001b[K     |███████████████████             | 583kB 5.2MB/s eta 0:00:01\r\u001b[K     |███████████████████▎            | 593kB 5.2MB/s eta 0:00:01\r\u001b[K     |███████████████████▋            | 604kB 5.2MB/s eta 0:00:01\r\u001b[K     |████████████████████            | 614kB 5.2MB/s eta 0:00:01\r\u001b[K     |████████████████████▎           | 624kB 5.2MB/s eta 0:00:01\r\u001b[K     |████████████████████▋           | 634kB 5.2MB/s eta 0:00:01\r\u001b[K     |█████████████████████           | 645kB 5.2MB/s eta 0:00:01\r\u001b[K     |█████████████████████▎          | 655kB 5.2MB/s eta 0:00:01\r\u001b[K     |█████████████████████▋          | 665kB 5.2MB/s eta 0:00:01\r\u001b[K     |██████████████████████          | 675kB 5.2MB/s eta 0:00:01\r\u001b[K     |██████████████████████▎         | 686kB 5.2MB/s eta 0:00:01\r\u001b[K     |██████████████████████▋         | 696kB 5.2MB/s eta 0:00:01\r\u001b[K     |███████████████████████         | 706kB 5.2MB/s eta 0:00:01\r\u001b[K     |███████████████████████▎        | 716kB 5.2MB/s eta 0:00:01\r\u001b[K     |███████████████████████▋        | 727kB 5.2MB/s eta 0:00:01\r\u001b[K     |████████████████████████        | 737kB 5.2MB/s eta 0:00:01\r\u001b[K     |████████████████████████▎       | 747kB 5.2MB/s eta 0:00:01\r\u001b[K     |████████████████████████▋       | 757kB 5.2MB/s eta 0:00:01\r\u001b[K     |████████████████████████▉       | 768kB 5.2MB/s eta 0:00:01\r\u001b[K     |█████████████████████████▏      | 778kB 5.2MB/s eta 0:00:01\r\u001b[K     |█████████████████████████▌      | 788kB 5.2MB/s eta 0:00:01\r\u001b[K     |█████████████████████████▉      | 798kB 5.2MB/s eta 0:00:01\r\u001b[K     |██████████████████████████▏     | 808kB 5.2MB/s eta 0:00:01\r\u001b[K     |██████████████████████████▌     | 819kB 5.2MB/s eta 0:00:01\r\u001b[K     |██████████████████████████▉     | 829kB 5.2MB/s eta 0:00:01\r\u001b[K     |███████████████████████████▏    | 839kB 5.2MB/s eta 0:00:01\r\u001b[K     |███████████████████████████▌    | 849kB 5.2MB/s eta 0:00:01\r\u001b[K     |███████████████████████████▉    | 860kB 5.2MB/s eta 0:00:01\r\u001b[K     |████████████████████████████▏   | 870kB 5.2MB/s eta 0:00:01\r\u001b[K     |████████████████████████████▌   | 880kB 5.2MB/s eta 0:00:01\r\u001b[K     |████████████████████████████▉   | 890kB 5.2MB/s eta 0:00:01\r\u001b[K     |█████████████████████████████▏  | 901kB 5.2MB/s eta 0:00:01\r\u001b[K     |█████████████████████████████▌  | 911kB 5.2MB/s eta 0:00:01\r\u001b[K     |█████████████████████████████▉  | 921kB 5.2MB/s eta 0:00:01\r\u001b[K     |██████████████████████████████▏ | 931kB 5.2MB/s eta 0:00:01\r\u001b[K     |██████████████████████████████▌ | 942kB 5.2MB/s eta 0:00:01\r\u001b[K     |██████████████████████████████▉ | 952kB 5.2MB/s eta 0:00:01\r\u001b[K     |███████████████████████████████▏| 962kB 5.2MB/s eta 0:00:01\r\u001b[K     |███████████████████████████████▌| 972kB 5.2MB/s eta 0:00:01\r\u001b[K     |███████████████████████████████▉| 983kB 5.2MB/s eta 0:00:01\r\u001b[K     |████████████████████████████████| 993kB 5.2MB/s \n",
            "\u001b[?25h  Building wheel for PyDrive (setup.py) ... \u001b[?25l\u001b[?25hdone\n"
          ],
          "name": "stdout"
        }
      ]
    },
    {
      "cell_type": "code",
      "metadata": {
        "id": "nd7aNb3N1NF1",
        "colab_type": "code",
        "colab": {
          "base_uri": "https://localhost:8080/",
          "height": 143
        },
        "outputId": "4f8cadf2-5a17-4284-c865-1c095ac28162"
      },
      "source": [
        "!ls gdrive/My\\ Drive\\"
      ],
      "execution_count": 1,
      "outputs": [
        {
          "output_type": "stream",
          "text": [
            " 영어\t   '쉬식시간 활용'     dataset\t\t        IDs.gdoc        Udacity\n",
            " 여행\t    알고리즘공부       DeepLearning\t        MentorSeminar   Video\n",
            " 출장\t    3DMAX_Mine\t       DL_HW_ACCEL_DOC\t        Music\t        VQAS\n",
            " 집짓기     3Dprint\t       DOCs\t\t        MyDrivers\n",
            " 집정리     AndroidApp\t       Fun\t\t        MyProfile\n",
            " 핸드폰     Arduino\t      '내가 저장한 장소.gmap'   Program\n",
            " 멀티콥터  'Colab Notebooks'  'Google Buzz'\t        Python\n"
          ],
          "name": "stdout"
        }
      ]
    },
    {
      "cell_type": "code",
      "metadata": {
        "id": "mhFu8Oqe1oL5",
        "colab_type": "code",
        "colab": {}
      },
      "source": [
        ""
      ],
      "execution_count": 0,
      "outputs": []
    }
  ]
}